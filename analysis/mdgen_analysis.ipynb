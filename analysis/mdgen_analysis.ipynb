{
 "cells": [
  {
   "cell_type": "code",
   "execution_count": null,
   "metadata": {},
   "outputs": [],
   "source": [
    "import os\n",
    "\n",
    "import mdtraj as md\n",
    "import pyemma\n",
    "import numpy as np\n",
    "import matplotlib.pyplot as plt\n",
    "from scipy.spatial import distance \n",
    "from statsmodels.tsa import stattools\n",
    "\n",
    "from jamun.cmdline.sample import get_wandb_run_config\n"
   ]
  },
  {
   "cell_type": "code",
   "execution_count": null,
   "metadata": {},
   "outputs": [],
   "source": [
    "wandb_sample_run_path = \"prescient-design/wjpp/fmralmpb\""
   ]
  },
  {
   "cell_type": "code",
   "execution_count": null,
   "metadata": {},
   "outputs": [],
   "source": [
    "cfg = get_wandb_run_config(wandb_sample_run_path)\n",
    "cfg"
   ]
  },
  {
   "cell_type": "code",
   "execution_count": null,
   "metadata": {},
   "outputs": [],
   "source": [
    "peptide = \"AMIG\""
   ]
  },
  {
   "cell_type": "code",
   "execution_count": null,
   "metadata": {},
   "outputs": [],
   "source": [
    "figures_dir = f\"mdgen_analysis/{peptide}\"\n",
    "os.makedirs(figures_dir, exist_ok=True)"
   ]
  },
  {
   "cell_type": "code",
   "execution_count": null,
   "metadata": {},
   "outputs": [],
   "source": [
    "output_dir = cfg[\"callbacks\"][\"save_trajectory\"][\"output_dir\"] + f\"/{peptide}\"\n",
    "ref_pdb = f\"{output_dir}/true_samples/pdb/0.pdb\"\n",
    "ref_dcd = f\"{output_dir}/true_samples/dcd/0.dcd\"\n",
    "pred_pdb = f\"{output_dir}/predicted_samples/pdb/joined.pdb\"\n",
    "pred_dcd = f\"{output_dir}/predicted_samples/dcd/joined.dcd\"\n",
    "\n",
    "print(pred_pdb)"
   ]
  },
  {
   "cell_type": "code",
   "execution_count": null,
   "metadata": {},
   "outputs": [],
   "source": [
    "def get_featurized_traj(pdb_file: str, dcd_file: str, cossin: bool = False):\n",
    "    feat = pyemma.coordinates.featurizer(pdb_file)\n",
    "    feat.add_backbone_torsions(cossin=cossin)\n",
    "    feat.add_sidechain_torsions(cossin=cossin)\n",
    "    traj = pyemma.coordinates.load(dcd_file, features=feat)\n",
    "    return feat, traj\n"
   ]
  },
  {
   "cell_type": "code",
   "execution_count": null,
   "metadata": {},
   "outputs": [],
   "source": [
    "ref_feat, ref_traj = get_featurized_traj(ref_pdb, ref_dcd)\n",
    "feat, traj = get_featurized_traj(pred_pdb, pred_dcd)"
   ]
  },
  {
   "cell_type": "code",
   "execution_count": null,
   "metadata": {},
   "outputs": [],
   "source": [
    "traj = traj[:len(ref_traj)]"
   ]
  },
  {
   "cell_type": "code",
   "execution_count": null,
   "metadata": {},
   "outputs": [],
   "source": [
    "ref_feat.describe()"
   ]
  },
  {
   "cell_type": "code",
   "execution_count": null,
   "metadata": {},
   "outputs": [],
   "source": [
    "assert ref_feat.describe() == feat.describe()"
   ]
  },
  {
   "cell_type": "code",
   "execution_count": null,
   "metadata": {},
   "outputs": [],
   "source": [
    "ref_traj.shape, traj.shape"
   ]
  },
  {
   "cell_type": "code",
   "execution_count": null,
   "metadata": {},
   "outputs": [],
   "source": [
    "for dihedral in range(3):\n",
    "    pyemma.plots.plot_density(traj[:, 2 * dihedral], traj[:, 2 * dihedral + 1])\n",
    "    if dihedral == 1:\n",
    "        plt.title(\"JAMUN\", fontsize=\"xx-large\")\n",
    "    plt.savefig(f\"{figures_dir}/density_plot_{dihedral}.png\", dpi=500)\n",
    "    \n",
    "    pyemma.plots.plot_density(ref_traj[:, 2 * dihedral], ref_traj[:, 2 * dihedral + 1])\n",
    "    if dihedral == 1:\n",
    "        plt.title(\"Reference MD\", fontsize=\"xx-large\")\n",
    "    plt.savefig(f\"{figures_dir}/density_plot_ref_{dihedral}.png\", dpi=500)"
   ]
  },
  {
   "cell_type": "code",
   "execution_count": null,
   "metadata": {},
   "outputs": [],
   "source": [
    "for dihedral in range(3):\n",
    "    pyemma.plots.plot_free_energy(traj[:, 2 * dihedral], traj[:, 2 * dihedral + 1], cmap=\"inferno\")\n",
    "    if dihedral == 1:\n",
    "        plt.title(\"JAMUN\", fontsize=\"xx-large\")\n",
    "    plt.savefig(f\"{figures_dir}/free_energy_plot_{dihedral}.png\", dpi=500)\n",
    "    \n",
    "    pyemma.plots.plot_free_energy(ref_traj[:, 2 * dihedral], ref_traj[:, 2 * dihedral + 1], cmap=\"inferno\")\n",
    "    if dihedral == 1:\n",
    "        plt.title(\"Reference MD\", fontsize=\"xx-large\")\n",
    "    plt.savefig(f\"{figures_dir}/free_energy_plot_ref_{dihedral}.png\", dpi=500)"
   ]
  },
  {
   "cell_type": "code",
   "execution_count": null,
   "metadata": {},
   "outputs": [],
   "source": [
    "pyemma.plots.plot_feature_histograms(traj, feature_labels=feat)\n",
    "plt.title(\"JAMUN\", fontsize=\"xx-large\")\n",
    "plt.tight_layout()\n",
    "plt.savefig(f\"{figures_dir}/feature_histograms.png\", dpi=500)\n",
    "\n",
    "pyemma.plots.plot_feature_histograms(ref_traj, feature_labels=ref_feat)\n",
    "plt.title(\"Reference MD\", fontsize=\"xx-large\")\n",
    "plt.tight_layout()\n",
    "plt.savefig(f\"{figures_dir}/feature_histograms_ref.png\", dpi=500)"
   ]
  },
  {
   "cell_type": "code",
   "execution_count": null,
   "metadata": {},
   "outputs": [],
   "source": [
    "for i, feat in enumerate(ref_feat.describe()):\n",
    "    ref_p = np.histogram(ref_traj[:,i], range=(-np.pi, np.pi), bins=100)[0]\n",
    "    traj_p = np.histogram(traj[:,i], range=(-np.pi, np.pi), bins=100)[0]\n",
    "    print(feat, \"JSD:\", distance.jensenshannon(ref_p, traj_p))\n"
   ]
  },
  {
   "cell_type": "code",
   "execution_count": null,
   "metadata": {},
   "outputs": [],
   "source": [
    "tica = pyemma.coordinates.tica(traj, lag=1000, kinetic_map=True)\n",
    "ref_tica = tica.transform(ref_traj)\n",
    "traj_tica = tica.transform(traj)"
   ]
  },
  {
   "cell_type": "code",
   "execution_count": null,
   "metadata": {},
   "outputs": [],
   "source": [
    "plt.plot(np.abs(tica.eigenvalues), marker='o')\n",
    "plt.xlabel(\"index\")\n",
    "plt.ylabel(\"|eigenvalue|\")\n",
    "plt.title(\"Absolute values of TICA eigenvalues\")\n",
    "plt.show()"
   ]
  },
  {
   "cell_type": "code",
   "execution_count": null,
   "metadata": {},
   "outputs": [],
   "source": [
    "tica_0_min = min(ref_tica[:,0].min(), traj_tica[:,0].min())\n",
    "tica_0_max = max(ref_tica[:,0].max(), traj_tica[:,0].max())\n",
    "\n",
    "tica_1_min = min(ref_tica[:,1].min(), traj_tica[:,1].min())\n",
    "tica_1_max = max(ref_tica[:,1].max(), traj_tica[:,1].max())\n",
    "\n",
    "ref_p = np.histogram(ref_tica[:,0], range=(tica_0_min, tica_0_max), bins=100)[0]\n",
    "traj_p = np.histogram(traj_tica[:,0], range=(tica_0_min, tica_0_max), bins=100)[0]\n",
    "print(\"TICA-0 JS\", distance.jensenshannon(ref_p, traj_p))\n",
    "\n",
    "ref_p = np.histogram2d(*ref_tica[:,:2].T, range=((tica_0_min, tica_0_max),(tica_1_min, tica_1_max)), bins=50)[0]\n",
    "traj_p = np.histogram2d(*traj_tica[:,:2].T, range=((tica_0_min, tica_0_max),(tica_1_min, tica_1_max)), bins=50)[0]\n",
    "print(\"TICA-0,1 JSD\", distance.jensenshannon(ref_p.flatten(), traj_p.flatten()))\n"
   ]
  },
  {
   "cell_type": "code",
   "execution_count": null,
   "metadata": {},
   "outputs": [],
   "source": [
    "pyemma.plots.plot_free_energy(traj_tica[:,0], traj_tica[:,1], cmap=\"plasma\")\n",
    "plt.title(\"JAMUN\", fontsize=\"xx-large\")\n",
    "plt.savefig(f\"{figures_dir}/tica_01.png\", dpi=500)\n",
    "\n",
    "pyemma.plots.plot_free_energy(ref_tica[:,0], ref_tica[:,1], cmap=\"plasma\")\n",
    "plt.title(\"Reference MD\", fontsize=\"xx-large\")\n",
    "plt.savefig(f\"{figures_dir}/tica_01_ref.png\", dpi=500)"
   ]
  },
  {
   "cell_type": "code",
   "execution_count": null,
   "metadata": {},
   "outputs": [],
   "source": [
    "nlag = 1000\n",
    "ref_autocorr = stattools.acovf(ref_tica[:,0], nlag=nlag, adjusted=True, demean=False)\n",
    "traj_autocorr = stattools.acovf(traj_tica[:,0], nlag=nlag, adjusted=True, demean=False)\n",
    "\n",
    "plt.plot(ref_autocorr, label=\"Reference MD\")\n",
    "plt.plot(traj_autocorr, label=\"JAMUN\")\n",
    "plt.title(f\"TICA-0 Autocorrelation\")\n",
    "plt.xlabel(\"Lag\")\n",
    "plt.ylabel(\"Autocorrelation\")\n",
    "plt.legend()\n",
    "plt.show()\n"
   ]
  }
 ],
 "metadata": {
  "kernelspec": {
   "display_name": "jamun-analysis",
   "language": "python",
   "name": "python3"
  },
  "language_info": {
   "codemirror_mode": {
    "name": "ipython",
    "version": 3
   },
   "file_extension": ".py",
   "mimetype": "text/x-python",
   "name": "python",
   "nbconvert_exporter": "python",
   "pygments_lexer": "ipython3",
   "version": "3.11.11"
  }
 },
 "nbformat": 4,
 "nbformat_minor": 2
}
